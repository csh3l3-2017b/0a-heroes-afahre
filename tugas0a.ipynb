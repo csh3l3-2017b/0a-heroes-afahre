{
 "cells": [
  {
   "cell_type": "code",
   "execution_count": 17,
   "metadata": {
    "collapsed": true
   },
   "outputs": [],
   "source": [
    "import pandas as pd"
   ]
  },
  {
   "cell_type": "markdown",
   "metadata": {},
   "source": [
    "import library yang dibutuhkan"
   ]
  },
  {
   "cell_type": "code",
   "execution_count": 18,
   "metadata": {
    "collapsed": true
   },
   "outputs": [],
   "source": [
    "dataTest = pd.read_csv(\"E:/Documents/TELYU sialan/TUGAS TELYU/SMT 6/Machine Learning/Tugas 0A/test.csv\")"
   ]
  },
  {
   "cell_type": "markdown",
   "metadata": {},
   "source": [
    "membaca file test.csv"
   ]
  },
  {
   "cell_type": "code",
   "execution_count": 19,
   "metadata": {
    "collapsed": true
   },
   "outputs": [],
   "source": [
    "role = []\n",
    "for i in range(len(dataTest)):\n",
    "    if dataTest[\"movementSpeed\"][i] >= 270:\n",
    "        role.append(\"MARKSMAN\")\n",
    "    elif dataTest[\"mana\"][i] >= 500:\n",
    "        role.append(\"MAGE\")\n",
    "    elif dataTest[\"armor\"][i] >= 25:\n",
    "        role.append(\"TANK\")\n",
    "    elif dataTest[\"physicalAttack\"][i] >= 121:\n",
    "        role.append(\"ASSASSIN\")\n",
    "    elif dataTest[\"hp\"][i] >= 2580:\n",
    "        role.append(\"FIGHTER\")\n",
    "    else:\n",
    "        role.append(\"SUPPORT\")\n",
    "        "
   ]
  },
  {
   "cell_type": "markdown",
   "metadata": {},
   "source": [
    "code kondisi untuk menentukan role suatu heroes sesuai dengan ability atau kemampuannya. \n",
    "Heroes yang memiliki movementSpeed >= 270, akan mendapat peran sebagai MARKSMAN (huruf kapital semua)\n",
    "Heroes dengan mana >= 500, akan mendapat peran sebagai MAGE (huruf kapital semua)\n",
    "Heroes dengan armor >= 25, akan mendapat peran sebagai TANK (huruf kapital semua)\n",
    "Heroes dengan physicalAttack >= 121, akan mendapat peran sebagai ASSASSIN (huruf kapital semua)\n",
    "Heroes dengan hp >= 2580, akan mendapat peran sebagai FIGHTER (huruf kapital semua)\n",
    "Heroes lainnya akan mendapat peran sebagai SUPPORT (huruf kapital semua).\n"
   ]
  },
  {
   "cell_type": "code",
   "execution_count": 20,
   "metadata": {
    "collapsed": true
   },
   "outputs": [],
   "source": [
    "heroes = pd.DataFrame({\"name\" : dataTest[\"name\"],\n",
    "                       \"role\" :role })"
   ]
  },
  {
   "cell_type": "markdown",
   "metadata": {},
   "source": [
    "create nama kolom untuk dimasukkan ke file prediction.csv"
   ]
  },
  {
   "cell_type": "code",
   "execution_count": 21,
   "metadata": {},
   "outputs": [],
   "source": [
    "heroes.to_csv(\"prediction.csv\", index = False)"
   ]
  },
  {
   "cell_type": "markdown",
   "metadata": {},
   "source": [
    "membuat file prediction.csv"
   ]
  }
 ],
 "metadata": {
  "kernelspec": {
   "display_name": "Python 3",
   "language": "python",
   "name": "python3"
  },
  "language_info": {
   "codemirror_mode": {
    "name": "ipython",
    "version": 3
   },
   "file_extension": ".py",
   "mimetype": "text/x-python",
   "name": "python",
   "nbconvert_exporter": "python",
   "pygments_lexer": "ipython3",
   "version": "3.6.3"
  }
 },
 "nbformat": 4,
 "nbformat_minor": 2
}
